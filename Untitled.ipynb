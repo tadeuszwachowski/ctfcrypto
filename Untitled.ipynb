{
 "cells": [
  {
   "cell_type": "code",
   "execution_count": 6,
   "id": "1f5cea99",
   "metadata": {},
   "outputs": [
    {
     "name": "stdout",
     "output_type": "stream",
     "text": [
      "b'w5TObsrdnlen{1_d0nt_kn0w_bl4bl4_s0m3th1ng_v333ry_l000ng_1s_b3tt3r}CkQll'\n"
     ]
    }
   ],
   "source": [
    "from Crypto.Util.number import long_to_bytes, bytes_to_long\n",
    "\n",
    "# r is the known difference\n",
    "# c1 - smaller ciphertext\n",
    "# c2 - larger ciphertext (c1+r in some way)\n",
    "def franklinReiter(n,e,r,c1,c2):\n",
    "    R.<X> = Zmod(n)[]\n",
    "    f1 = X^e - c1\n",
    "    f2 = (X + r)^e - c2\n",
    "    # coefficient 0 = -m, which is what we wanted!\n",
    "    return Integer(n-(compositeModulusGCD(f1,f2)).coefficients()[0])\n",
    "\n",
    "# GCD for rings  \n",
    "def compositeModulusGCD(a, b):\n",
    "    if(b == 0):\n",
    "        return a.monic()\n",
    "    else:\n",
    "        return compositeModulusGCD(b, a % b)\n",
    "\n",
    "# We know c1, c2, r, e, n\n",
    "# c1 = pow(m + 0, e, n)\n",
    "# c2 = pow(m + r, e, n)\n",
    "\n",
    "def frbrute(n,e,r,c1,c2,difference=b\"aaaaaaaaaa\",known_pt=b\"flag{\"):\n",
    "    for i in range(150):\n",
    "        r = bytes_to_long(difference)*(256**i)\n",
    "        flag = franklinReiter(n,e,r,c1,c2)\n",
    "        flag_text = long_to_bytes(flag)\n",
    "        if known_pt in flag_text:\n",
    "            print(flag_text)\n",
    "            break\n",
    "\n",
    "# change accordingly\n",
    "n = 51482698748683767088087774270468156789100783641624785984084944863403828221503510365647069203224514944133755999305691830273348754501244540637720175453826222195986788740756721867756000903482921840078455512554853981304825785510942041958289855014883755566433382271880955982668769167111413833106363196394414775723\n",
    "e = 7\n",
    "c1 = 39543566838040231239939164803218710613860645995020757373962281275377085927966049379744197052397001009854135889517120893834339242951683165219271078557757906181200134496843382014432758096445044636698554061314566046396547732647265656862210402239966335508430547937762410030734921297166737744160611698564562209262\n",
    "c2 = 41946100253688314489554460200533212544861235453293689162120385015587544249894510737558568165826824266673923747032483973391038813083195661342878853206935911092078295829114403226841068488887869839383208080644706526631222059077684047373505456924287431408824857660746171269417541645046015662527642772050914041123\n",
    "difference = b\"aaaaaaaaaa\"\n",
    "known_pt = b\"srdnlen{\"\n",
    "\n",
    "\n",
    "r = bytes_to_long(difference)\n",
    "frbrute(n,e,r,c1,c2,difference,known_pt)"
   ]
  },
  {
   "cell_type": "code",
   "execution_count": null,
   "id": "7c10ecf7",
   "metadata": {},
   "outputs": [],
   "source": []
  }
 ],
 "metadata": {
  "kernelspec": {
   "display_name": "SageMath 9.5",
   "language": "sage",
   "name": "sagemath"
  },
  "language_info": {
   "codemirror_mode": {
    "name": "ipython",
    "version": 3
   },
   "file_extension": ".py",
   "mimetype": "text/x-python",
   "name": "python",
   "nbconvert_exporter": "python",
   "pygments_lexer": "ipython3",
   "version": "3.10.7"
  }
 },
 "nbformat": 4,
 "nbformat_minor": 5
}
